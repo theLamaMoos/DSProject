{
 "cells": [
  {
   "cell_type": "markdown",
   "id": "401dcb72-e322-4083-a9d2-082d770f1869",
   "metadata": {},
   "source": [
    "# H1: Data Science Tools and Ecosystem"
   ]
  },
  {
   "cell_type": "markdown",
   "id": "5c5b5bb2-be26-4cbe-978f-23f873719c6c",
   "metadata": {},
   "source": [
    "Data Science Tools and Ecosystem are summarized in this notebook."
   ]
  },
  {
   "cell_type": "markdown",
   "id": "8465f7f8-c3f6-415f-8215-a506b9800ace",
   "metadata": {},
   "source": [
    "Some populare languages Data Scientists use are:\n",
    "1. Python\n",
    "2. R\n",
    "3. SQL"
   ]
  },
  {
   "cell_type": "markdown",
   "id": "14a63b00-57aa-4fac-a2f6-a674d2230b2f",
   "metadata": {},
   "source": [
    "Some of the libraries commonly used by Data Scientists include:\n",
    "1. NumPy\n",
    "2. Pandas\n",
    "3. SciPy\n",
    "4. Matplotlib"
   ]
  },
  {
   "cell_type": "markdown",
   "id": "450eaf60-8522-4af8-ac74-e76efc68c93b",
   "metadata": {},
   "source": [
    "|Data Science Tools|\n",
    "|-----|\n",
    "|Hadoop|\n",
    "|RStudio|\n",
    "|TensorFlow|"
   ]
  },
  {
   "cell_type": "markdown",
   "id": "fe84f4fe-adc3-4b95-beb3-fa5d3a240bd5",
   "metadata": {},
   "source": [
    "# H3: Below are a few examples of evaluating arithmetic expressions in Python"
   ]
  },
  {
   "cell_type": "code",
   "execution_count": 2,
   "id": "738ad594-fdb6-40f1-94cb-d620ac872240",
   "metadata": {},
   "outputs": [
    {
     "data": {
      "text/plain": [
       "17"
      ]
     },
     "execution_count": 2,
     "metadata": {},
     "output_type": "execute_result"
    }
   ],
   "source": [
    "#This is a simple arithmetic expression to multiply, then add, integers\n",
    "\n",
    "(3*4)+5"
   ]
  },
  {
   "cell_type": "code",
   "execution_count": 4,
   "id": "53c7286c-32d0-4fc4-9fe0-15ac9a007dbf",
   "metadata": {},
   "outputs": [
    {
     "data": {
      "text/plain": [
       "3.3333333333333335"
      ]
     },
     "execution_count": 4,
     "metadata": {},
     "output_type": "execute_result"
    }
   ],
   "source": [
    "#This will convert 200 minutes to hours by dividing by 60\n",
    "\n",
    "200/60"
   ]
  },
  {
   "cell_type": "markdown",
   "id": "bc6bf60b-b314-4cd7-92da-dfe9831d6095",
   "metadata": {},
   "source": [
    "Objectives:\n",
    "- List popular languages for Data Science\n",
    "- List popular tools for Data Science\n",
    "- List popular libraries for Data Science"
   ]
  },
  {
   "cell_type": "markdown",
   "id": "1c4c8c7c-4115-42b3-b404-d998d58a8eb1",
   "metadata": {},
   "source": [
    "# H2: Author\n",
    "L. Mesa"
   ]
  },
  {
   "cell_type": "code",
   "execution_count": null,
   "id": "3e4701db-87d1-467b-98e5-b418dd880839",
   "metadata": {},
   "outputs": [],
   "source": []
  }
 ],
 "metadata": {
  "kernelspec": {
   "display_name": "Python 3 (ipykernel)",
   "language": "python",
   "name": "python3"
  },
  "language_info": {
   "codemirror_mode": {
    "name": "ipython",
    "version": 3
   },
   "file_extension": ".py",
   "mimetype": "text/x-python",
   "name": "python",
   "nbconvert_exporter": "python",
   "pygments_lexer": "ipython3",
   "version": "3.11.5"
  }
 },
 "nbformat": 4,
 "nbformat_minor": 5
}
